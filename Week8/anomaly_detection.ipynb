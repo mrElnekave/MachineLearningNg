{
 "cells": [
  {
   "cell_type": "code",
   "execution_count": 2,
   "metadata": {},
   "outputs": [],
   "source": [
    "import numpy as np\n",
    "import matplotlib.pyplot as plt"
   ]
  },
  {
   "cell_type": "code",
   "execution_count": 3,
   "metadata": {},
   "outputs": [],
   "source": [
    "# UNQ_C1\n",
    "# GRADED FUNCTION: estimate_gaussian\n",
    "\n",
    "def estimate_gaussian(X): \n",
    "    \"\"\"\n",
    "    Calculates mean and variance of all features \n",
    "    in the dataset\n",
    "    \n",
    "    Args:\n",
    "        X (ndarray): (m, n) Data matrix\n",
    "    \n",
    "    Returns:\n",
    "        mu (ndarray): (n,) Mean of all features\n",
    "        var (ndarray): (n,) Variance of all features\n",
    "    \"\"\"\n",
    "\n",
    "    m, n = X.shape\n",
    "    ### START CODE HERE ### \n",
    "    mu = 1/m * np.sum(X, axis=0)\n",
    "    var = 1/m * np.sum(np.square(X-mu), axis=0)\n",
    "    \n",
    "    ### END CODE HERE ### \n",
    "        \n",
    "    return mu, var"
   ]
  },
  {
   "cell_type": "code",
   "execution_count": 4,
   "metadata": {},
   "outputs": [
    {
     "name": "stdout",
     "output_type": "stream",
     "text": [
      "[14.9210243  15.32995521 16.47386514 13.98930611 15.63533011]\n"
     ]
    },
    {
     "data": {
      "text/plain": [
       "(array([1., 3., 1.]),\n",
       " array([13.98930611, 14.81749245, 15.6456788 , 16.47386514]),\n",
       " <BarContainer object of 3 artists>)"
      ]
     },
     "execution_count": 4,
     "metadata": {},
     "output_type": "execute_result"
    },
    {
     "data": {
      "image/png": "[encoded data removed]",
      "text/plain": [
       "<Figure size 640x480 with 1 Axes>"
      ]
     },
     "metadata": {},
     "output_type": "display_data"
    }
   ],
   "source": [
    "X = np.array([[15.79025979, 14.9210243 ],\n",
    " [13.63961877, 15.32995521],\n",
    " [14.86589943, 16.47386514],\n",
    " [13.58467605, 13.98930611],\n",
    " [13.46404167, 15.63533011]])\n",
    "print(X[:, 1])\n",
    "plt.hist(X[:, 1], bins=3)\n"
   ]
  },
  {
   "cell_type": "code",
   "execution_count": 5,
   "metadata": {},
   "outputs": [
    {
     "name": "stdout",
     "output_type": "stream",
     "text": [
      "[14.26889914 15.26989617] [0.83657963 0.66966256]\n"
     ]
    }
   ],
   "source": [
    "mu, variance = estimate_gaussian(X)\n",
    "print(mu, variance)"
   ]
  },
  {
   "cell_type": "code",
   "execution_count": null,
   "metadata": {},
   "outputs": [],
   "source": [
    "# UNQ_C2\n",
    "# GRADED FUNCTION: select_threshold\n",
    "def select_threshold(y_val, p_val): \n",
    "    \"\"\"\n",
    "    Finds the best threshold to use for selecting outliers \n",
    "    based on the results from a validation set (p_val) \n",
    "    and the ground truth (y_val)\n",
    "    \n",
    "    Args:\n",
    "        y_val (ndarray): Ground truth on validation set\n",
    "        p_val (ndarray): Results on validation set\n",
    "        \n",
    "    Returns:\n",
    "        epsilon (float): Threshold chosen \n",
    "        F1 (float):      F1 score by choosing epsilon as threshold\n",
    "    \"\"\" \n",
    "\n",
    "    best_epsilon = 0\n",
    "    best_F1 = 0\n",
    "    F1 = 0\n",
    "    \n",
    "    step_size = (max(p_val) - min(p_val)) / 1000\n",
    "    \n",
    "    for epsilon in np.arange(min(p_val), max(p_val), step_size):\n",
    "    \n",
    "        ### START CODE HERE ### \n",
    "        # tp = 0\n",
    "        # fp = 0\n",
    "        # fn = 0\n",
    "        # e_val = p_val < epsilon\n",
    "        # for i in range(p_val.shape[0]):\n",
    "        #     if e_val[i] == 1 and y_val[i] == 1:\n",
    "        #         tp += 1\n",
    "        #     elif e_val[i] == 1 and y_val[i] == 0:\n",
    "        #         fp += 1\n",
    "        #     elif e_val[i] == 0 and y_val[i] == 1:\n",
    "        #         fn += 1\n",
    "        #     else:\n",
    "        #         print(\"error\")\n",
    "        epsilon: float = epsilon    \n",
    "        e_val = p_val < epsilon\n",
    "        mismatch = e_val ^ y_val\n",
    "        \n",
    "        tp = sum(e_val & y_val)\n",
    "        fp = sum(mismatch & e_val)\n",
    "        fn = sum(mismatch & y_val)\n",
    "        \n",
    "        precision = tp / (fp + tp)\n",
    "        recall = tp / (fn + tp)\n",
    "        \n",
    "        F1 = 2 * precision * recall / (precision + recall)\n",
    "        \n",
    "        \n",
    "        ### END CODE HERE ### \n",
    "        \n",
    "        if F1 > best_F1:\n",
    "            best_F1 = F1\n",
    "            best_epsilon = epsilon\n",
    "        \n",
    "    return best_epsilon, best_F1"
   ]
  },
  {
   "attachments": {},
   "cell_type": "markdown",
   "metadata": {},
   "source": []
  }
 ],
 "metadata": {
  "kernelspec": {
   "display_name": "venv",
   "language": "python",
   "name": "python3"
  },
  "language_info": {
   "codemirror_mode": {
    "name": "ipython",
    "version": 3
   },
   "file_extension": ".py",
   "mimetype": "text/x-python",
   "name": "python",
   "nbconvert_exporter": "python",
   "pygments_lexer": "ipython3",
   "version": "3.11.0"
  },
  "orig_nbformat": 4
 },
 "nbformat": 4,
 "nbformat_minor": 2
}
