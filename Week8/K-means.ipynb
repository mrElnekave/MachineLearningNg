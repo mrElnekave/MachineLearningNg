{
 "cells": [
  {
   "cell_type": "code",
   "execution_count": 4,
   "metadata": {},
   "outputs": [],
   "source": [
    "import numpy as np\n",
    "import math\n"
   ]
  },
  {
   "cell_type": "code",
   "execution_count": 21,
   "metadata": {},
   "outputs": [],
   "source": [
    "# UNQ_C1\n",
    "# GRADED FUNCTION: find_closest_centroids\n",
    "def find_closest_centroids(X, centroids):\n",
    "    \"\"\"\n",
    "    Computes the centroid memberships for every example\n",
    "    \n",
    "    Args:\n",
    "        X (ndarray): (m, n) Input values      \n",
    "        centroids (ndarray): (K, n) centroids\n",
    "    \n",
    "    Returns:\n",
    "        idx (array_like): (m,) closest centroids\n",
    "    \n",
    "    \"\"\"\n",
    "\n",
    "    # Set K\n",
    "    K = centroids.shape[0]\n",
    "\n",
    "    # You need to return the following variables correctly\n",
    "    idx = np.zeros(X.shape[0], dtype=int)\n",
    "\n",
    "    ### START CODE HERE ###\n",
    "    \n",
    "    for i, element in enumerate(X):\n",
    "        index = 0\n",
    "        min_centroid = math.inf\n",
    "\n",
    "        for j, centroid in enumerate(centroids):\n",
    "            new = np.linalg.norm(element - centroid)\n",
    "            if new < min_centroid:\n",
    "                min_centroid = new\n",
    "                index = j\n",
    "            \n",
    "        idx[i] = index\n",
    "            \n",
    "            \n",
    "        \n",
    "     ### END CODE HERE ###\n",
    "    \n",
    "    return idx"
   ]
  },
  {
   "cell_type": "code",
   "execution_count": 24,
   "metadata": {},
   "outputs": [
    {
     "name": "stdout",
     "output_type": "stream",
     "text": [
      "First three elements in idx are: [2 0 1 0 0]\n"
     ]
    }
   ],
   "source": [
    "X = np.array([[8.84207953, 4.6075716 ],\n",
    " [2.65858312, 3.79996405],\\\n",
    " [6.35257892, 3.2908545 ],\\\n",
    " [2.90401653, 4.61220411],\\\n",
    " [3.23197916, 4.93989405]])\n",
    "\n",
    "initial_centroids = np.array([[3,3], [6,2], [8,5]])\n",
    "\n",
    "# Find closest centroids using initial_centroids\n",
    "idx = find_closest_centroids(X, initial_centroids)\n",
    "\n",
    "# Print closest centroids for the first three elements\n",
    "print(\"First three elements in idx are:\", idx)"
   ]
  },
  {
   "cell_type": "code",
   "execution_count": 28,
   "metadata": {},
   "outputs": [],
   "source": [
    "# UNQ_C2\n",
    "# GRADED FUNCTION: compute_centroids\n",
    "\n",
    "def compute_centroids(X, idx, K):\n",
    "    \"\"\"\n",
    "    Returns the new centroids by computing the means of the \n",
    "    data points assigned to each centroid.\n",
    "    \n",
    "    Args:\n",
    "        X (ndarray):   (m, n) Data points\n",
    "        idx (ndarray): (m,) Array containing index of closest centroid for each \n",
    "                       example in X. Concretely, idx[i] contains the index of \n",
    "                       the centroid closest to example i\n",
    "        K (int):       number of centroids\n",
    "    \n",
    "    Returns:\n",
    "        centroids (ndarray): (K, n) New centroids computed\n",
    "    \"\"\"\n",
    "    \n",
    "    # Useful variables\n",
    "    m, n = X.shape\n",
    "    \n",
    "    # You need to return the following variables correctly\n",
    "    centroids = np.zeros((K, n))\n",
    "    \n",
    "    ### START CODE HERE ###\n",
    "    num_elems = np.zeros((K, 1))\n",
    "    for i, index in enumerate(idx):\n",
    "        centroids[index] += X[i]\n",
    "        num_elems[index] += 1\n",
    "    \n",
    "    centroids /= num_elems\n",
    "        \n",
    "        \n",
    "    ### END CODE HERE ## \n",
    "    \n",
    "    return centroids"
   ]
  },
  {
   "cell_type": "code",
   "execution_count": 29,
   "metadata": {},
   "outputs": [
    {
     "name": "stdout",
     "output_type": "stream",
     "text": [
      "The centroids are: [[2.93152627 4.4506874 ]\n",
      " [6.35257892 3.2908545 ]\n",
      " [8.84207953 4.6075716 ]]\n"
     ]
    }
   ],
   "source": [
    "K = 3\n",
    "centroids = compute_centroids(X, idx, K)\n",
    "\n",
    "print(\"The centroids are:\", centroids)\n"
   ]
  }
 ],
 "metadata": {
  "kernelspec": {
   "display_name": "venv",
   "language": "python",
   "name": "python3"
  },
  "language_info": {
   "codemirror_mode": {
    "name": "ipython",
    "version": 3
   },
   "file_extension": ".py",
   "mimetype": "text/x-python",
   "name": "python",
   "nbconvert_exporter": "python",
   "pygments_lexer": "ipython3",
   "version": "3.11.0"
  },
  "orig_nbformat": 4
 },
 "nbformat": 4,
 "nbformat_minor": 2
}
